{
 "cells": [
  {
   "cell_type": "markdown",
   "id": "f7e184cf",
   "metadata": {},
   "source": [
    "### 1. Import required libraries"
   ]
  },
  {
   "cell_type": "code",
   "execution_count": null,
   "id": "3e1dfb13",
   "metadata": {},
   "outputs": [],
   "source": [
    "import time, requests, os\n",
    "from langchain_openai import ChatOpenAI\n",
    "from langchain.schema import HumanMessage, SystemMessage, AIMessage\n",
    "from typing import List, Dict\n",
    "from dotenv import load_dotenv\n",
    "from ias_openai_langchain import IASOpenaiConversationalLLM, IASOpenaiEmbeddings\n",
    "from langchain.vectorstores import FAISS\n",
    "from langchain.vectorstores.chroma import Chroma\n",
    "from langchain.tools import tool\n",
    "from pydantic import BaseModel\n",
    "\n",
    "\n",
    "# tools\n",
    "from langchain_community.tools.tavily_search import TavilySearchResults\n",
    "from langchain_community.tools import DuckDuckGoSearchResults\n",
    "\n",
    "\n",
    "#!pip install pypdf\n",
    "#!pip install langchain-chroma --upgrade\n",
    "# !pip install chromadb\n",
    "# or\n",
    "# !pip install faiss-cpu"
   ]
  },
  {
   "cell_type": "markdown",
   "id": "92546d04",
   "metadata": {},
   "source": [
    "### 2. Initialize the language model"
   ]
  },
  {
   "cell_type": "code",
   "execution_count": null,
   "id": "5091e78a",
   "metadata": {},
   "outputs": [],
   "source": [
    "load_dotenv()\n",
    "llm = ChatOpenAI('gpt-4o')"
   ]
  },
  {
   "cell_type": "markdown",
   "id": "28a7610b",
   "metadata": {},
   "source": [
    "### 3. Tools implementation"
   ]
  },
  {
   "cell_type": "code",
   "execution_count": null,
   "id": "1b8f367d",
   "metadata": {},
   "outputs": [
    {
     "data": {
      "text/plain": [
       "[{'title': 'LangGraph Glossary - GitHub Pages',\n",
       "  'url': 'https://langchain-ai.github.io/langgraph/concepts/low_level/',\n",
       "  'content': 'In LangGraph, nodes are typically python functions (sync or async) where the first positional argument is the state, and (optionally), the second positional argument is a \"config\", containing optional configurable parameters (such as a thread_id).\\nSimilar to NetworkX, you add these nodes to a graph using the add_node method:\\n[](https://langchain-ai.github.io/langgraph/concepts/low_level/#__codelineno-7-1)fromlangchain_core.runnablesimport RunnableConfig [...] LangGraph Glossary¶\\nGraphs¶\\nAt its core, LangGraph models agent workflows as graphs. You define the behavior of your agents using three key components:\\n\\n\\nState: A shared data structure that represents the current snapshot of your application. It can be any Python type, but is typically a TypedDict or Pydantic BaseModel.\\n\\n\\nNodes: Python functions that encode the logic of your agents. They receive the current State as input, perform some computation or side-effect, and return an updated State. [...] By composing Nodes and Edges, you can create complex, looping workflows that evolve the State over time. The real power, though, comes from how LangGraph manages that State. To emphasize: Nodes and Edges are nothing more than Python functions - they can contain an LLM or just good ol\\' Python code.\\nIn short: nodes do the work. edges tell what to do next.',\n",
       "  'score': 0.8995547},\n",
       " {'title': 'A Comprehensive Guide About Langgraph: Code Included - Ionio',\n",
       "  'url': 'https://www.ionio.ai/blog/a-comprehensive-guide-about-langgraph-code-included',\n",
       "  'content': 'Now let’s take a look at each component of langgraph in detail 🚀\\nNodes\\nA node can be any function or tool your agent uses in langgraph and these nodes are connected with other nodes using edges. Every workflow ends with a “END” node in langgraph which shows the end of workflow. You also need to define a starting node which will be the starting point of your workflow. Optionally, you can also define an ending node if you know the ending point of your workflow.',\n",
       "  'score': 0.8991304}]"
      ]
     },
     "execution_count": 4,
     "metadata": {},
     "output_type": "execute_result"
    }
   ],
   "source": [
    "# Tool1: implemet Taviliy search tool\n",
    "#-----------------------------------------\n",
    "os.environ[\"TAVILY_API_KEY\"] = \"...\"\n",
    "tavily_tool = TavilySearchResults(max_results=2)\n",
    "tavily_tool.invoke(\"What's a 'node' in LangGraph?\")"
   ]
  },
  {
   "cell_type": "code",
   "execution_count": 5,
   "id": "3b8ddc4c",
   "metadata": {},
   "outputs": [
    {
     "data": {
      "text/plain": [
       "'snippet: Prolonged Periods of Unsettled Weather into Early Next Week. Showers and thunderstorms with heavy rainfall, with a few thunderstorms being severe, are expected over portions of the Southeast and Mid-Atlantic States through Monday. ... San Francisco CA 37.77°N 122.41°W (Elev. 131 ft) Last Update: 3:03 pm PDT May 3, 2025. Forecast Valid: 8pm ..., title: National Weather Service, link: https://forecast.weather.gov/MapClick.php?textField1=37.784444&textField2=-122.403333, snippet: Currently, in San Francisco, expect winds and a partly cloudy afternoon. The temperature is a breezy 60.8°F, and the feels-like temperature is appraised at a refreshing 57.2°F. The current temperature is the maximum expected temperature of the day., title: Weather today - San Francisco, CA, link: https://www.weather-atlas.com/en/california-usa/san-francisco'"
      ]
     },
     "execution_count": 5,
     "metadata": {},
     "output_type": "execute_result"
    }
   ],
   "source": [
    "# Tool2: implment web_search_tool\n",
    "#-----------------------------------------\n",
    "# !pip install -U duckduckgo-search\n",
    "web_search_tool = DuckDuckGoSearchResults(num_results = 2)\n",
    "web_search_tool.invoke(\"Give me the temprature in San Fransisco?\")"
   ]
  },
  {
   "cell_type": "code",
   "execution_count": 6,
   "id": "0a4ee2b4",
   "metadata": {},
   "outputs": [],
   "source": [
    "# Tool3: RAG tool\n",
    "#-----------------------------------------\n",
    "# 1. Load the doc, 2. Split/Chunk the doc, 3. Vector emnedding and save in vector DB \n",
    "from langchain_community.document_loaders import PyPDFLoader, Docx2txtLoader\n",
    "from typing import List\n",
    "from langchain_core.documents import Document"
   ]
  },
  {
   "cell_type": "code",
   "execution_count": 7,
   "id": "d17dbc71",
   "metadata": {},
   "outputs": [],
   "source": [
    "# 1. Load document\n",
    "def load_documnet(folder_path: str) -> List[Document]:\n",
    "    document = []\n",
    "    for filename in os.listdir(folder_path):\n",
    "        file_path = os.path.join(folder_path, filename)\n",
    "        if filename.endswith(\"pdf\"):\n",
    "            loader = PyPDFLoader(file_path=file_path)\n",
    "        elif filename.endswith(docx):\n",
    "            loader = Docx2txtLoader(file_path=file_path)\n",
    "        else:\n",
    "            print(\"Unsupported File!\")\n",
    "        document.extend(loader.load())\n",
    "    return document"
   ]
  },
  {
   "cell_type": "code",
   "execution_count": 8,
   "id": "645846d7",
   "metadata": {},
   "outputs": [],
   "source": [
    "# folder path\n",
    "folder_path = \"./docs\""
   ]
  },
  {
   "cell_type": "code",
   "execution_count": 9,
   "id": "a0439910",
   "metadata": {},
   "outputs": [
    {
     "name": "stdout",
     "output_type": "stream",
     "text": [
      "Number of Documents: 13\n"
     ]
    }
   ],
   "source": [
    "documents = load_documnet(folder_path = folder_path)\n",
    "print(f\"Number of Documents: {len(documents)}\")"
   ]
  },
  {
   "cell_type": "code",
   "execution_count": 10,
   "id": "813fb1bd",
   "metadata": {},
   "outputs": [],
   "source": [
    "# 2. Chunk the doc\n",
    "from langchain_text_splitters  import RecursiveCharacterTextSplitter\n",
    "\n",
    "text_splitter = RecursiveCharacterTextSplitter(\n",
    "    chunk_size = 1000,\n",
    "    chunk_overlap = 200,\n",
    "    length_function = len\n",
    ")\n",
    "\n",
    "splits = text_splitter.split_documents(documents=documents)"
   ]
  },
  {
   "cell_type": "code",
   "execution_count": null,
   "id": "f356bcbe",
   "metadata": {},
   "outputs": [],
   "source": [
    "# 3. Vector embedding and store in vector DB -> Chroma DB\n",
    "from langchain_openai import OpenAIEmbeddings\n",
    "embeddings = OpenAIEmbeddings()\n"
   ]
  },
  {
   "cell_type": "code",
   "execution_count": 12,
   "id": "282aee8f",
   "metadata": {},
   "outputs": [],
   "source": [
    "# Create the vector store\n",
    "embedding_vectore_store = Chroma.from_documents(\n",
    "    collection_name=\"my_collection\",\n",
    "    documents=splits,\n",
    "    embedding=embeddings,\n",
    "    persist_directory=\"./chroma_db\"\n",
    "    )"
   ]
  },
  {
   "cell_type": "code",
   "execution_count": 13,
   "id": "16a8e1c5",
   "metadata": {},
   "outputs": [],
   "source": [
    "# Basic RAG Tool Schema\n",
    "class RagToolSchema(BaseModel):\n",
    "    question: str"
   ]
  },
  {
   "cell_type": "code",
   "execution_count": 14,
   "id": "e1a8ef6a",
   "metadata": {},
   "outputs": [],
   "source": [
    "# implement RAG tool\n",
    "@tool(args_schema= RagToolSchema)\n",
    "\n",
    "# create retriver tool\n",
    "# ------------------------------------\n",
    "def retriver_tool(question: str):\n",
    "    \"\"\"\n",
    "    Tool to retrive semantically similar documents to answer \n",
    "    related questions related to a company's leave policy\n",
    "    \"\"\"\n",
    "\n",
    "    retiviver = embedding_vectore_store.as_retriever(search_kwargs = {\"k\": 2})\n",
    "    retiviver_result = retiviver.invoke(question)\n",
    "    return \"\\n\\n\".join(doc.page_content for doc in retiviver_result)"
   ]
  },
  {
   "cell_type": "code",
   "execution_count": null,
   "id": "8390cba5",
   "metadata": {},
   "outputs": [],
   "source": [
    "# test\n",
    "ret = embedding_vectore_store.as_retriever(search_kwargs = {\"k\": 2})\n",
    "ret.invoke(\"what is the leave policy?\")"
   ]
  },
  {
   "cell_type": "code",
   "execution_count": 16,
   "id": "498655ab",
   "metadata": {},
   "outputs": [],
   "source": [
    "# bind the tools with LLM\n",
    "tools = [tavily_tool, web_search_tool, retriver_tool]\n",
    "llm_with_tools = llm.bind_tools(tools=tools)"
   ]
  },
  {
   "cell_type": "markdown",
   "id": "752d1556",
   "metadata": {},
   "source": [
    "### 4. Graph implementation"
   ]
  },
  {
   "cell_type": "code",
   "execution_count": 17,
   "id": "5e999345",
   "metadata": {},
   "outputs": [],
   "source": [
    "# Define the graph \n",
    "from typing import TypedDict, Annotated\n",
    "from langgraph.graph import StateGraph, START, END\n",
    "from langgraph.graph import add_messages\n",
    "# from langgraph.prebuilt import ToolNode --> did from scratch\n",
    "# from langgraph.prebuilt import tools_condition --> did from scratch\n"
   ]
  },
  {
   "cell_type": "code",
   "execution_count": 18,
   "id": "6b93f9c0",
   "metadata": {},
   "outputs": [],
   "source": [
    "# Create state\n",
    "class State(TypedDict):\n",
    "    messages: Annotated[List, add_messages]"
   ]
  },
  {
   "cell_type": "code",
   "execution_count": 19,
   "id": "b5b78297",
   "metadata": {},
   "outputs": [],
   "source": [
    "# Create agent node or chatbot node\n",
    "def chatbot(state: State):\n",
    "    return {\"messages\": [llm_with_tools.invoke(state[\"messages\"])]}"
   ]
  },
  {
   "cell_type": "code",
   "execution_count": 20,
   "id": "4aca994b",
   "metadata": {},
   "outputs": [],
   "source": [
    "import json\n",
    "from langchain_core.messages import ToolMessage\n",
    "\n",
    "\n",
    "class BasicToolNode:\n",
    "    \"\"\"A node that runs the tools requested in the last AIMessage.\"\"\"\n",
    "\n",
    "    def __init__(self, tools: list) -> None:\n",
    "        self.tools_by_name = {tool.name: tool for tool in tools}\n",
    "\n",
    "    def __call__(self, inputs: dict):\n",
    "        if messages := inputs.get(\"messages\", []):\n",
    "            message = messages[-1]\n",
    "        else:\n",
    "            raise ValueError(\"No message found in input\")\n",
    "        outputs = []\n",
    "        for tool_call in message.tool_calls:\n",
    "            tool_result = self.tools_by_name[tool_call[\"name\"]].invoke(\n",
    "                tool_call[\"args\"]\n",
    "            )\n",
    "            outputs.append(\n",
    "                ToolMessage(\n",
    "                    content=json.dumps(tool_result),\n",
    "                    name=tool_call[\"name\"],\n",
    "                    tool_call_id=tool_call[\"id\"],\n",
    "                )\n",
    "            )\n",
    "        return {\"messages\": outputs}"
   ]
  },
  {
   "cell_type": "code",
   "execution_count": 21,
   "id": "21534319",
   "metadata": {},
   "outputs": [],
   "source": [
    "# create tool node\n",
    "tool_node = BasicToolNode(tools=tools)"
   ]
  },
  {
   "cell_type": "code",
   "execution_count": 22,
   "id": "1853c292",
   "metadata": {},
   "outputs": [],
   "source": [
    "def route_tools(\n",
    "    state: State,\n",
    "):\n",
    "    \"\"\"\n",
    "    Use in the conditional_edge to route to the ToolNode if the last message\n",
    "    has tool calls. Otherwise, route to the end.\n",
    "    \"\"\"\n",
    "    if isinstance(state, list):\n",
    "        ai_message = state[-1]\n",
    "    elif messages := state.get(\"messages\", []):\n",
    "        ai_message = messages[-1]\n",
    "    else:\n",
    "        raise ValueError(f\"No messages found in input state to tool_edge: {state}\")\n",
    "    if hasattr(ai_message, \"tool_calls\") and len(ai_message.tool_calls) > 0:\n",
    "        return \"tools\"\n",
    "    return END"
   ]
  },
  {
   "cell_type": "code",
   "execution_count": 23,
   "id": "6a48e503",
   "metadata": {},
   "outputs": [],
   "source": [
    "# creat graph\n",
    "graph_builder = StateGraph(State)"
   ]
  },
  {
   "cell_type": "code",
   "execution_count": 24,
   "id": "159ffda4",
   "metadata": {},
   "outputs": [
    {
     "data": {
      "text/plain": [
       "<langgraph.graph.state.StateGraph at 0x1a629ab23c0>"
      ]
     },
     "execution_count": 24,
     "metadata": {},
     "output_type": "execute_result"
    }
   ],
   "source": [
    "# add all nodes to the graph\n",
    "graph_builder.add_node(\"chatbot\", chatbot)\n",
    "graph_builder.add_node('tools', tool_node)"
   ]
  },
  {
   "cell_type": "code",
   "execution_count": 25,
   "id": "d9ef9c8e",
   "metadata": {},
   "outputs": [
    {
     "data": {
      "text/plain": [
       "<langgraph.graph.state.StateGraph at 0x1a629ab23c0>"
      ]
     },
     "execution_count": 25,
     "metadata": {},
     "output_type": "execute_result"
    }
   ],
   "source": [
    "# Connect agents and tools using edge and conditional edge\n",
    "# Any time a tool is called, we return to the chatbot to decide the next step\n",
    "graph_builder.add_edge(START, \"chatbot\")\n",
    "# The `tools_condition` function returns \"tools\" if the chatbot asks to use a tool, and \"END\" if\n",
    "# it is fine directly responding. This conditional routing defines the main agent loop.\n",
    "graph_builder.add_conditional_edges(\n",
    "    \"chatbot\",\n",
    "    route_tools,\n",
    "    # The following dictionary lets you tell the graph to interpret the condition's outputs as a specific node\n",
    "    # It defaults to the identity function, but if you\n",
    "    # want to use a node named something else apart from \"tools\",\n",
    "    # You can update the value of the dictionary to something else\n",
    "    # e.g., \"tools\": \"my_tools\"\n",
    "    {\"tools\": \"tools\", END: END},\n",
    ")\n",
    "graph_builder.add_edge(\"tools\", \"chatbot\")"
   ]
  },
  {
   "cell_type": "code",
   "execution_count": 26,
   "id": "c646a333",
   "metadata": {},
   "outputs": [],
   "source": [
    "# Compile the graph\n",
    "graph = graph_builder.compile()"
   ]
  },
  {
   "cell_type": "code",
   "execution_count": 27,
   "id": "ef06162c",
   "metadata": {},
   "outputs": [
    {
     "data": {
      "image/png": "[encoded data removed]",
      "text/plain": [
       "<IPython.core.display.Image object>"
      ]
     },
     "metadata": {},
     "output_type": "display_data"
    }
   ],
   "source": [
    "# Display the graph\n",
    "from IPython.display import Image, display\n",
    "\n",
    "try:\n",
    "    display(Image(graph.get_graph().draw_mermaid_png()))\n",
    "except Exception:\n",
    "    # This requires some extra dependencies and is optional\n",
    "    pass"
   ]
  },
  {
   "cell_type": "code",
   "execution_count": 28,
   "id": "0db6410d",
   "metadata": {},
   "outputs": [],
   "source": [
    "def stream_graph_updates(user_input: str):\n",
    "    for event in graph.stream({\"messages\": [{\"role\": \"user\", \"content\": user_input}]}):\n",
    "        for value in event.values():\n",
    "            print(\"Assistant:\", value[\"messages\"][-1].content)"
   ]
  },
  {
   "cell_type": "code",
   "execution_count": 31,
   "id": "fed19e42",
   "metadata": {},
   "outputs": [
    {
     "name": "stdout",
     "output_type": "stream",
     "text": [
      "Chat comp payload - what is AutoGenBench in machine learning?\n",
      "Assistant: AutoGenBench is a tool used in machine learning to automatically generate benchmark datasets. It is designed to help researchers and practitioners evaluate and compare the performance of different machine learning algorithms. The tool uses a variety of techniques to generate synthetic datasets that mimic the characteristics of real-world data, allowing for a more comprehensive and robust evaluation of machine learning models.\n",
      "Goodbye!\n"
     ]
    }
   ],
   "source": [
    "while True:\n",
    "    try:\n",
    "        user_input = input(\"User: \")\n",
    "        if user_input.lower() in [\"quit\", \"exit\", \"q\"]:\n",
    "            print(\"Goodbye!\")\n",
    "            break\n",
    "\n",
    "        stream_graph_updates(user_input)\n",
    "    except:\n",
    "        # fallback if input() is not available\n",
    "        user_input = \"What do you know about LangGraph?\"\n",
    "        print(\"User: \" + user_input)\n",
    "        stream_graph_updates(user_input)\n",
    "        break"
   ]
  }
 ],
 "metadata": {
  "kernelspec": {
   "display_name": ".env",
   "language": "python",
   "name": "python3"
  },
  "language_info": {
   "codemirror_mode": {
    "name": "ipython",
    "version": 3
   },
   "file_extension": ".py",
   "mimetype": "text/x-python",
   "name": "python",
   "nbconvert_exporter": "python",
   "pygments_lexer": "ipython3",
   "version": "3.12.3"
  }
 },
 "nbformat": 4,
 "nbformat_minor": 5
}
