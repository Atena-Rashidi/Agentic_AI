{
 "cells": [
  {
   "cell_type": "markdown",
   "id": "fe0842c1",
   "metadata": {},
   "source": [
    "## Multi-agent Network\n",
    "In Multi-agent Network each agent can communicate with every other agent. Any agent can decide which other agent to call next.\n",
    "\n",
    "This project demonstrates a **multi-agent system architecture** using **LangGraph**, inspired by the *AutoGen* paper: https://arxiv.org/abs/2308.08155 \n",
    "\n",
    "The goal is to showcase how complex tasks can be **decomposed and distributed** among specialized agents, each equipped with specific tools. In this example, the task is to:\n",
    "- **Research** the UK's GDP over the past 5 years.\n",
    "- **Generate a line chart** based on the data.\n",
    "\n",
    "To achieve this, the system uses two collaborative agents:\n",
    "- A **Research Agent** that performs web searches using the **Tavily API**.\n",
    "- A **Chart Generator Agent** that executes Python code to create visualizations.\n",
    "\n",
    "These agents communicate through a **graph-based workflow**, passing messages and results until the task is completed. This modular design allows each agent to focus on its domain while contributing to a shared objective.\n",
    "\n",
    "---\n",
    "\n",
    "#### **Code Structure & Workflow**\n",
    "The code follows a **modular and sequential pipeline**:\n",
    "\n",
    "1. **Setup**  \n",
    "   - Installs required packages.\n",
    "   - Configures API keys for Tavily and Anthropic.\n",
    "   - Optionally integrates with **LangSmith** for debugging and monitoring.\n",
    "\n",
    "2. **Tool Definition**  \n",
    "   - Defines tools like `TavilySearchResults` for web search and `PythonREPL` for executing Python code.\n",
    "   - Wraps the Python execution in a safe callable tool.\n",
    "\n",
    "3. **Agent Nodes**  \n",
    "   - Creates two agents using `create_react_agent`:\n",
    "     - **Research Agent**: Only performs research.\n",
    "     - **Chart Generator Agent**: Only generates charts.\n",
    "   - Each agent is given a **system prompt** to define its role and behavior.\n",
    "   - Nodes are defined to manage agent invocation and message passing.\n",
    "\n",
    "4. **Graph Construction**  \n",
    "   - Uses `StateGraph` to define the workflow.\n",
    "   - Connects the agents in a loop, starting with the researcher and alternating until a **\"FINAL ANSWER\"** is produced.\n",
    "\n",
    "5. **Invocation**  \n",
    "   - The graph is invoked with a user query.\n",
    "   - The system streams the interaction between agents step-by-step, showing how they collaborate to complete the task."
   ]
  },
  {
   "cell_type": "markdown",
   "id": "7e418ea0",
   "metadata": {},
   "source": [
    "# Import Required Libraries"
   ]
  },
  {
   "cell_type": "code",
   "execution_count": 16,
   "id": "df12d196",
   "metadata": {},
   "outputs": [],
   "source": [
    "\n",
    "import time, requests, os\n",
    "from langchain.agents import AgentExecutor, create_openai_functions_agent, create_openai_tools_agent, create_tool_calling_agent\n",
    "from langchain import hub\n",
    "from langchain_core.prompts import ChatPromptTemplate, MessagesPlaceholder\n",
    "from langchain_core.messages import HumanMessage, BaseMessage, AIMessage, AnyMessage\n",
    "from langchain_core.prompts import PromptTemplate\n",
    "from langchain.agents import AgentExecutor, tool, create_react_agent\n",
    "from langchain_core.tools import tool\n",
    "from langchain.tools import Tool\n",
    "from langchain_core.messages.tool import ToolMessage\n",
    "from langchain_community.tools.tavily_search import TavilySearchResults\n",
    "from langchain_experimental.utilities import PythonREPL\n",
    "from langchain.schema import HumanMessage, SystemMessage, AIMessage\n",
    "import functools\n",
    "from typing import Literal\n",
    "\n",
    "from langchain_core.messages import BaseMessage, HumanMessage\n",
    "#from langchain_anthropic import ChatAnthropic\n",
    "from langgraph.prebuilt import create_react_agent\n",
    "from langgraph.graph import StateGraph, MessagesState, END\n",
    "from langgraph.types import Command\n",
    "from langgraph.prebuilt import ToolNode\n",
    "from langgraph.graph.message import add_messages\n",
    "\n",
    "\n",
    "\n",
    "\n",
    "from typing import List, Dict\n",
    "from typing import Annotated, Sequence\n",
    "from typing_extensions import TypedDict\n",
    "\n",
    "from ias_openai_langchain import IASOpenaiConversationalLLM\n",
    "from llm import VoxLLM\n",
    "from ias_openai_langchain_old import IASOpenaiConversationalLLM, IASOpenaiEmbeddings\n",
    "\n",
    "# from langchain_openai import ChatOpenAI\n",
    "# from dotenv import load_dotenv"
   ]
  },
  {
   "cell_type": "code",
   "execution_count": 17,
   "id": "161ec304",
   "metadata": {},
   "outputs": [],
   "source": [
    "MASTER_USER = \"8bc3cc94aaad42169c5fd6fbd63ffb2f\"\n",
    "MASTER_PASS = \"0ad756CbaE9A4629af86F5356Ac65be8\"\n",
    "IAS_OPENAI_CHAT_URL=\"https://mule4api-comm-amer-dev.pfizer.com/vessel-openai-api-v1/chatCompletion\"\n",
    "\n",
    "\n",
    "def auth_credentials():\n",
    "    \"\"\"\n",
    "    Generate authentication token from devfederate.\n",
    "    \"\"\"\n",
    "    post = requests.post(\"https://devfederate.pfizer.com/as/token.oauth2?grant_type=client_credentials\", auth=(MASTER_USER, MASTER_PASS)).json()\n",
    "    return post['access_token']"
   ]
  },
  {
   "cell_type": "code",
   "execution_count": 18,
   "id": "0f85380c",
   "metadata": {},
   "outputs": [],
   "source": [
    "# llm = ChatAnthropic(model=\"claude-3-5-sonnet-latest\")"
   ]
  },
  {
   "cell_type": "code",
   "execution_count": 19,
   "id": "d532fef7",
   "metadata": {},
   "outputs": [],
   "source": [
    "# Initialize the Language Model\n",
    "federated_token = auth_credentials()\n",
    "\n",
    "llm = VoxLLM(model='gpt-4o',\n",
    "            max_tokens=4096,\n",
    "            temperature=0.2)"
   ]
  },
  {
   "cell_type": "code",
   "execution_count": 20,
   "id": "5ec40773",
   "metadata": {},
   "outputs": [],
   "source": [
    "# import getpass\n",
    "# import os\n",
    "\n",
    "\n",
    "# def _set_if_undefined(var: str):\n",
    "#     if not os.environ.get(var):\n",
    "#         os.environ[var] = getpass.getpass(f\"Please provide your {var}\")\n",
    "\n",
    "\n",
    "# _set_if_undefined(\"ANTHROPIC_API_KEY\")\n",
    "# _set_if_undefined(\"TAVILY_API_KEY\")"
   ]
  },
  {
   "cell_type": "code",
   "execution_count": 21,
   "id": "f408ce8f",
   "metadata": {},
   "outputs": [
    {
     "data": {
      "text/plain": [
       "[{'title': 'Next LangGraph Glossary - Overview',\n",
       "  'url': 'https://langchain-ai.github.io/langgraph/concepts/low_level/',\n",
       "  'content': 'In LangGraph, nodes are typically python functions (sync or async) where the first positional argument is the state, and (optionally), the second positional argument is a \"config\", containing optional configurable parameters (such as a thread_id).\\nSimilar to NetworkX, you add these nodes to a graph using the add_node method:\\n[](https://langchain-ai.github.io/langgraph/concepts/low_level/#__codelineno-7-1)fromlangchain_core.runnablesimport RunnableConfig [...] LangGraph Glossary¶\\nGraphs¶\\nAt its core, LangGraph models agent workflows as graphs. You define the behavior of your agents using three key components:\\n\\n\\nState: A shared data structure that represents the current snapshot of your application. It can be any Python type, but is typically a TypedDict or Pydantic BaseModel.\\n\\n\\nNodes: Python functions that encode the logic of your agents. They receive the current State as input, perform some computation or side-effect, and return an updated State. [...] By composing Nodes and Edges, you can create complex, looping workflows that evolve the State over time. The real power, though, comes from how LangGraph manages that State. To emphasize: Nodes and Edges are nothing more than Python functions - they can contain an LLM or just good ol\\' Python code.\\nIn short: nodes do the work. edges tell what to do next.',\n",
       "  'score': 0.8995547},\n",
       " {'title': 'A Comprehensive Guide About Langgraph: Code Included - Ionio',\n",
       "  'url': 'https://www.ionio.ai/blog/a-comprehensive-guide-about-langgraph-code-included',\n",
       "  'content': 'Now let’s take a look at each component of langgraph in detail 🚀\\nNodes\\nA node can be any function or tool your agent uses in langgraph and these nodes are connected with other nodes using edges. Every workflow ends with a “END” node in langgraph which shows the end of workflow. You also need to define a starting node which will be the starting point of your workflow. Optionally, you can also define an ending node if you know the ending point of your workflow.',\n",
       "  'score': 0.8991304}]"
      ]
     },
     "execution_count": 21,
     "metadata": {},
     "output_type": "execute_result"
    }
   ],
   "source": [
    "# Defines tool `TavilySearchResults` for web search\n",
    "\n",
    "os.environ[\"TAVILY_API_KEY\"] = \"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\"\n",
    "tavily_tool = TavilySearchResults(max_results=2)\n",
    "tavily_tool.invoke(\"What's a 'node' in LangGraph?\")"
   ]
  },
  {
   "cell_type": "code",
   "execution_count": 22,
   "id": "7e75b4df",
   "metadata": {},
   "outputs": [
    {
     "name": "stderr",
     "output_type": "stream",
     "text": [
      "<>:17: SyntaxWarning: invalid escape sequence '\\`'\n",
      "<>:17: SyntaxWarning: invalid escape sequence '\\`'\n",
      "<>:17: SyntaxWarning: invalid escape sequence '\\`'\n",
      "<>:17: SyntaxWarning: invalid escape sequence '\\`'\n",
      "C:\\Users\\RASHIF02\\AppData\\Local\\Temp\\1\\ipykernel_4404\\2145527124.py:17: SyntaxWarning: invalid escape sequence '\\`'\n",
      "  result_str = f\"Successfully executed:\\n\\`\\`\\`python\\n{code}\\n\\`\\`\\`\\nStdout: {result}\"\n",
      "C:\\Users\\RASHIF02\\AppData\\Local\\Temp\\1\\ipykernel_4404\\2145527124.py:17: SyntaxWarning: invalid escape sequence '\\`'\n",
      "  result_str = f\"Successfully executed:\\n\\`\\`\\`python\\n{code}\\n\\`\\`\\`\\nStdout: {result}\"\n"
     ]
    }
   ],
   "source": [
    "# Defines tool `PythonREPL` for executing Python code\n",
    "# Warning: This executes code locally, which can be unsafe when not sandboxed\n",
    "\n",
    "repl = PythonREPL()\n",
    "\n",
    "\n",
    "@tool\n",
    "def python_repl_tool(\n",
    "    code: Annotated[str, \"The python code to execute to generate your chart.\"],\n",
    "):\n",
    "    \"\"\"Use this to execute python code. If you want to see the output of a value,\n",
    "    you should print it out with `print(...)`. This is visible to the user.\"\"\"\n",
    "    try:\n",
    "        result = repl.run(code)\n",
    "    except BaseException as e:\n",
    "        return f\"Failed to execute. Error: {repr(e)}\"\n",
    "    result_str = f\"Successfully executed:\\n\\`\\`\\`python\\n{code}\\n\\`\\`\\`\\nStdout: {result}\"\n",
    "    return (\n",
    "        result_str + \"\\n\\nIf you have completed all tasks, respond with FINAL ANSWER.\"\n",
    "    )"
   ]
  },
  {
   "cell_type": "markdown",
   "id": "660a56ec",
   "metadata": {},
   "source": [
    "### Create graph\n",
    "We've defined our tools and made some helper functions, now we will create the individual agents below and tell them how to talk to each other using LangGraph."
   ]
  },
  {
   "cell_type": "code",
   "execution_count": 23,
   "id": "3ed41adb",
   "metadata": {},
   "outputs": [],
   "source": [
    "# from langchain_core.prompts import PromptTemplate\n",
    "\n",
    "# def make_system_prompt(suffix: str) -> PromptTemplate:\n",
    "#     prompt_template = (\n",
    "#         \"You are a helpful AI assistant, collaborating with other assistants.\\n\"\n",
    "#         \"Use the following tools to help you:\\n{tools}\\n\\n\"\n",
    "#         \"You can use these tools: {tool_names}\\n\\n\"\n",
    "#         \"Use the provided tools to progress towards answering the question.\\n\"\n",
    "#         \"If you are unable to fully answer, that's OK — another assistant with different tools \"\n",
    "#         \"will help where you left off. Execute what you can to make progress.\\n\"\n",
    "#         \"If you or any of the other assistants have the final answer or deliverable, \"\n",
    "#         \"prefix your response with FINAL ANSWER so the team knows to stop.\\n\\n\"\n",
    "#         \"{agent_scratchpad}\\n\"\n",
    "#         f\"{suffix}\"\n",
    "#     )\n",
    "#     return PromptTemplate.from_template(prompt_template)\n"
   ]
  },
  {
   "cell_type": "code",
   "execution_count": 24,
   "id": "5162db7e",
   "metadata": {},
   "outputs": [],
   "source": [
    "def make_system_prompt(suffix: str) -> str:\n",
    "    return (\n",
    "        \"You are a helpful AI assistant, collaborating with other assistants.\"\n",
    "        \" Use the provided tools to progress towards answering the question.\"\n",
    "        \" If you are unable to fully answer, that's OK, another assistant with different tools \"\n",
    "        \" will help where you left off. Execute what you can to make progress.\"\n",
    "        \" If you or any of the other assistants have the final answer or deliverable,\"\n",
    "        \" prefix your response with FINAL ANSWER so the team knows to stop.\"\n",
    "        f\"\\n{suffix}\"\n",
    "    )"
   ]
  },
  {
   "cell_type": "markdown",
   "id": "9c3483e9",
   "metadata": {},
   "source": [
    "#### Routing Utility  \n",
    "This helper function is a routing utility used in the multi-agent graph. \n",
    "It decides what the next step in the workflow should be, based on the content of the last message exchanged between agents.\n",
    "\n",
    "- If the message contains \"FINAL ANSWER\", it means one of the agents has completed the task, so the function returns END, signaling the graph to stop.\n",
    "- If not, it returns the goto value, which tells the graph which agent node to activate next (e.g., switch from researcher to chart generator or vice versa)."
   ]
  },
  {
   "cell_type": "code",
   "execution_count": 25,
   "id": "3af1ad5b",
   "metadata": {},
   "outputs": [],
   "source": [
    "# Define routing utility helper function\n",
    "def get_next_node(last_message: BaseMessage, goto: str):\n",
    "    if \"FINAL ANSWER\" in last_message.content:\n",
    "        # Any agent decided the work is done\n",
    "        return END\n",
    "    return goto"
   ]
  },
  {
   "cell_type": "code",
   "execution_count": 26,
   "id": "82276f10",
   "metadata": {},
   "outputs": [],
   "source": [
    "# Define Research Agent and Node:\n",
    "\n",
    "# Research agent\n",
    "research_agent = create_react_agent(\n",
    "    llm,\n",
    "    tools=[tavily_tool],\n",
    "    prompt=make_system_prompt(\n",
    "        \"You can only do research. You are working with a chart generator colleague.\"\n",
    "    ),\n",
    ")\n",
    "\n",
    "\n",
    "# Research node\n",
    "def research_node(\n",
    "    state: MessagesState,\n",
    ") -> Command[Literal[\"chart_generator\", END]]:\n",
    "    result = research_agent.invoke(state)\n",
    "    goto = get_next_node(result[\"messages\"][-1], \"chart_generator\")\n",
    "    # wrap in a human message, as not all providers allow\n",
    "    # AI message at the last position of the input messages list\n",
    "    result[\"messages\"][-1] = HumanMessage(\n",
    "        content=result[\"messages\"][-1].content, name=\"researcher\"\n",
    "    )\n",
    "    return Command(\n",
    "        update={\n",
    "            # share internal message history of research agent with other agents\n",
    "            \"messages\": result[\"messages\"],\n",
    "        },\n",
    "        goto=goto,\n",
    "    )"
   ]
  },
  {
   "cell_type": "code",
   "execution_count": 27,
   "id": "6af58a54",
   "metadata": {},
   "outputs": [],
   "source": [
    "# Define Chart Generator Agent and Node\n",
    "\n",
    "# NOTE: THIS PERFORMS ARBITRARY CODE EXECUTION, WHICH CAN BE UNSAFE WHEN NOT SANDBOXED\n",
    "\n",
    "\n",
    "# Chart Generator agent\n",
    "chart_agent = create_react_agent(\n",
    "    llm,\n",
    "    [python_repl_tool],\n",
    "    prompt=make_system_prompt(\n",
    "        \"You can only generate charts. You are working with a researcher colleague.\"\n",
    "    ),\n",
    ")\n",
    "\n",
    "\n",
    "# Chart Generator node\n",
    "def chart_node(state: MessagesState) -> Command[Literal[\"researcher\", END]]:\n",
    "    result = chart_agent.invoke(state)\n",
    "    goto = get_next_node(result[\"messages\"][-1], \"researcher\")\n",
    "    # wrap in a human message, as not all providers allow\n",
    "    # AI message at the last position of the input messages list\n",
    "    result[\"messages\"][-1] = HumanMessage(\n",
    "        content=result[\"messages\"][-1].content, name=\"chart_generator\"\n",
    "    )\n",
    "    return Command(\n",
    "        update={\n",
    "            # share internal message history of chart agent with other agents\n",
    "            \"messages\": result[\"messages\"],\n",
    "        },\n",
    "        goto=goto,\n",
    "    )"
   ]
  },
  {
   "cell_type": "code",
   "execution_count": 28,
   "id": "7b0e9f59",
   "metadata": {},
   "outputs": [],
   "source": [
    "# Define the Graph\n",
    "from langgraph.graph import StateGraph, START\n",
    "\n",
    "workflow = StateGraph(MessagesState)\n",
    "workflow.add_node(\"researcher\", research_node)\n",
    "workflow.add_node(\"chart_generator\", chart_node)\n",
    "\n",
    "workflow.add_edge(START, \"researcher\")\n",
    "graph = workflow.compile()"
   ]
  },
  {
   "cell_type": "code",
   "execution_count": 29,
   "id": "815e20d0",
   "metadata": {},
   "outputs": [
    {
     "data": {
      "image/png": "[encoded data removed]",
      "text/plain": [
       "<IPython.core.display.Image object>"
      ]
     },
     "metadata": {},
     "output_type": "display_data"
    }
   ],
   "source": [
    "# Display the Graph\n",
    "from IPython.display import Image, display\n",
    "\n",
    "try:\n",
    "    display(Image(graph.get_graph().draw_mermaid_png()))\n",
    "except Exception:\n",
    "    # This requires some extra dependencies and is optional\n",
    "    pass"
   ]
  },
  {
   "cell_type": "code",
   "execution_count": 30,
   "id": "d59f5ad9",
   "metadata": {},
   "outputs": [
    {
     "name": "stdout",
     "output_type": "stream",
     "text": [
      "{'researcher': {'messages': [HumanMessage(content=\"First, get the UK's GDP over the past 5 years, then make a line chart of it. Once you make the chart, finish.\", additional_kwargs={}, response_metadata={}, id='0593602e-2322-4f47-b674-f636ec352102'), AIMessage(content='', additional_kwargs={'tool_calls': [{'function': {'arguments': '{\"query\":\"UK GDP data for the past 5 years\"}', 'name': 'tavily_search_results_json'}, 'id': 'call_75uzmjNZtGewid4eKQ3U4Sb3', 'type': 'function'}]}, response_metadata={'usage_metadata': {'total_tokens': 235, 'completion_tokens': 208, 'prompt_tokens': 27}, 'model_name': 'gpt-4o', 'finish_reason': 'stop'}, id='run-37e79092-9494-4140-8a45-4b827429b596-0', tool_calls=[{'name': 'tavily_search_results_json', 'args': {'query': 'UK GDP data for the past 5 years'}, 'id': 'call_75uzmjNZtGewid4eKQ3U4Sb3', 'type': 'tool_call'}]), ToolMessage(content='[{\"title\": \"United Kingdom GDP - Trading Economics\", \"url\": \"https://tradingeconomics.com/united-kingdom/gdp\", \"content\": \"Members\\\\n\\\\n\\\\n\\\\nUnited Kingdom GDP\\\\n\\\\nThe Gross Domestic Product (GDP) in the United Kingdom was worth 3380.85 billion US dollars in 2023, according to official data from the World Bank. The GDP value of the United Kingdom represents 3.21 percent of the world economy. source: World Bank [...] GDP in the United Kingdom averaged 1346.43 USD Billion from 1960 until 2023, reaching an all time high of 3380.85 USD Billion in 2023 and a record low of 73.23 USD Billion in 1960. This page provides the latest reported value for - United Kingdom GDP - plus previous releases, historical high and low, short-term forecast and long-term prediction, economic calendar, survey consensus and news. United Kingdom GDP - values, historical data and charts - was last updated on  May of 2025. [...] GDP in the United Kingdom is expected to reach 3421.00 USD Billion by the end of 2025, according to Trading Economics global macro models and analysts expectations. In the long-term, the United Kingdom GDP is projected to trend around 3459.00 USD Billion in 2026 and 3518.00 USD Billion in 2027, according to our econometric models.\", \"score\": 0.7935067}, {\"title\": \"United Kingdom GDP Growth Rate - Trading Economics\", \"url\": \"https://tradingeconomics.com/united-kingdom/gdp-growth\", \"content\": \"| GDP from Public Administration | 30178.00 | 30011.00 | GBP Million | Mar 2025 |\\\\n| GDP from Services | 466343.00 | 463051.00 | GBP Million | Mar 2025 |\\\\n| GDP from Transport | 21198.00 | 20795.00 | GBP Million | Mar 2025 |\\\\n| GDP Growth Rate | 0.70 | 0.10 | percent | Mar 2025 |\\\\n| Gross Fixed Capital Formation | 118474.00 | 115115.00 | GBP Million | Mar 2025 |\\\\n| Gross National Product | 723702.00 | 713446.00 | GBP Million | Dec 2024 | [...] The Gross Domestic Product (GDP) in the United Kingdom expanded 0.70 percent in the first quarter of 2025 over the previous quarter. GDP Growth Rate in the United Kingdom averaged 0.58 percent from 1955 until 2025, reaching an all time high of 16.80 percent in the third quarter of 2020 and a record low of -20.30 percent in the second quarter of 2020. This page provides the latest reported value for - United Kingdom GDP Growth Rate - plus previous releases, historical high and low, short-term [...] | Related | Last | Previous | Unit | Reference |\\\\n| --- | --- | --- | --- | --- |\\\\n| GDP Growth Rate YoY | 1.30 | 1.50 | percent | Mar 2025 |\\\\n| GDP Constant Prices | 646833.00 | 642287.00 | GBP Million | Mar 2025 |\\\\n| GDP from Agriculture | 4300.00 | 4279.00 | GBP Million | Mar 2025 |\\\\n| GDP from Construction | 35725.00 | 35727.00 | GBP Million | Mar 2025 |\\\\n| GDP from Manufacturing | 51870.00 | 51434.00 | GBP Million | Mar 2025 |\\\\n| GDP from Mining | 7909.00 | 7951.00 | GBP Million | Mar 2025 |\", \"score\": 0.7859175}]', name='tavily_search_results_json', id='3f80e4f3-cbf8-4369-8412-0d580871194f', tool_call_id='call_75uzmjNZtGewid4eKQ3U4Sb3', artifact={'query': 'UK GDP data for the past 5 years', 'follow_up_questions': None, 'answer': None, 'images': [], 'results': [{'url': 'https://tradingeconomics.com/united-kingdom/gdp', 'title': 'United Kingdom GDP - Trading Economics', 'content': 'Members\\n\\n\\n\\nUnited Kingdom GDP\\n\\nThe Gross Domestic Product (GDP) in the United Kingdom was worth 3380.85 billion US dollars in 2023, according to official data from the World Bank. The GDP value of the United Kingdom represents 3.21 percent of the world economy. source: World Bank [...] GDP in the United Kingdom averaged 1346.43 USD Billion from 1960 until 2023, reaching an all time high of 3380.85 USD Billion in 2023 and a record low of 73.23 USD Billion in 1960. This page provides the latest reported value for - United Kingdom GDP - plus previous releases, historical high and low, short-term forecast and long-term prediction, economic calendar, survey consensus and news. United Kingdom GDP - values, historical data and charts - was last updated on  May of 2025. [...] GDP in the United Kingdom is expected to reach 3421.00 USD Billion by the end of 2025, according to Trading Economics global macro models and analysts expectations. In the long-term, the United Kingdom GDP is projected to trend around 3459.00 USD Billion in 2026 and 3518.00 USD Billion in 2027, according to our econometric models.', 'score': 0.7935067, 'raw_content': None}, {'url': 'https://tradingeconomics.com/united-kingdom/gdp-growth', 'title': 'United Kingdom GDP Growth Rate - Trading Economics', 'content': '| GDP from Public Administration | 30178.00 | 30011.00 | GBP Million | Mar 2025 |\\n| GDP from Services | 466343.00 | 463051.00 | GBP Million | Mar 2025 |\\n| GDP from Transport | 21198.00 | 20795.00 | GBP Million | Mar 2025 |\\n| GDP Growth Rate | 0.70 | 0.10 | percent | Mar 2025 |\\n| Gross Fixed Capital Formation | 118474.00 | 115115.00 | GBP Million | Mar 2025 |\\n| Gross National Product | 723702.00 | 713446.00 | GBP Million | Dec 2024 | [...] The Gross Domestic Product (GDP) in the United Kingdom expanded 0.70 percent in the first quarter of 2025 over the previous quarter. GDP Growth Rate in the United Kingdom averaged 0.58 percent from 1955 until 2025, reaching an all time high of 16.80 percent in the third quarter of 2020 and a record low of -20.30 percent in the second quarter of 2020. This page provides the latest reported value for - United Kingdom GDP Growth Rate - plus previous releases, historical high and low, short-term [...] | Related | Last | Previous | Unit | Reference |\\n| --- | --- | --- | --- | --- |\\n| GDP Growth Rate YoY | 1.30 | 1.50 | percent | Mar 2025 |\\n| GDP Constant Prices | 646833.00 | 642287.00 | GBP Million | Mar 2025 |\\n| GDP from Agriculture | 4300.00 | 4279.00 | GBP Million | Mar 2025 |\\n| GDP from Construction | 35725.00 | 35727.00 | GBP Million | Mar 2025 |\\n| GDP from Manufacturing | 51870.00 | 51434.00 | GBP Million | Mar 2025 |\\n| GDP from Mining | 7909.00 | 7951.00 | GBP Million | Mar 2025 |', 'score': 0.7859175, 'raw_content': None}], 'response_time': 0.71}), AIMessage(content='', additional_kwargs={'tool_calls': [{'function': {'arguments': '{\"query\":\"UK GDP data 2018 to 2023\"}', 'name': 'tavily_search_results_json'}, 'id': 'call_GTUfEBnu3E8tkOH5NHsRo45D', 'type': 'function'}]}, response_metadata={'usage_metadata': {'total_tokens': 1080, 'completion_tokens': 1052, 'prompt_tokens': 28}, 'model_name': 'gpt-4o', 'finish_reason': 'stop'}, id='run-f00bf7fc-afb6-4b85-a9c7-796691cb973b-0', tool_calls=[{'name': 'tavily_search_results_json', 'args': {'query': 'UK GDP data 2018 to 2023'}, 'id': 'call_GTUfEBnu3E8tkOH5NHsRo45D', 'type': 'tool_call'}]), ToolMessage(content='[{\"title\": \"U.K. GDP 1960-2025 - Macrotrends\", \"url\": \"https://www.macrotrends.net/global-metrics/countries/gbr/united-kingdom/gdp-gross-domestic-product\", \"content\": \"U.K. gdp for 2023 was $3,340.03B, a 8.13% increase from 2022.\\\\nU.K. gdp for 2022 was $3,088.84B, a 1.68% decline from 2021.\\\\nU.K. gdp for 2021 was $3,141.51B, a 16.45% increase from 2020.\\\\nU.K. gdp for 2020 was $2,697.81B, a 5.39% decline from 2019. [...] | Seychelles | $2.14B |\\\\n| Antigua and Barbuda | $2.03B |\\\\n| Sint Maarten (Dutch part) | $1.62B |\\\\n| Turks and Caicos Islands | $1.40B |\\\\n| St. Kitts and Nevis | $1.08B |\\\\n| Palau | $0.26B |\\\\n| U.K. GDP - Historical Data |\\\\n| --- |\\\\n| Year | GDP | Per Capita | Growth |\\\\n| --- | --- | --- | --- |\\\\n| 2023 | $3,340.03B | $48,867 | 0.10% |\\\\n| 2022 | $3,088.84B | $45,564 | 4.35% |\\\\n| 2021 | $3,141.51B | $46,870 | 8.67% |\\\\n| 2020 | $2,697.81B | $40,217 | -10.36% |\\\\n| 2019 | $2,851.41B | $42,663 | 1.64% |\", \"score\": 0.9247491}, {\"title\": \"United Kingdom - Data Commons\", \"url\": \"https://datacommons.org/place/country/GBR\", \"content\": \"The nominal GDP per capita in United Kingdom was $49,463.86 in 2023. The Gini index in United Kingdom was 32.4 in 2021.\", \"score\": 0.8891543}]', name='tavily_search_results_json', id='472a1dde-29bd-464b-930f-02b69a4b930a', tool_call_id='call_GTUfEBnu3E8tkOH5NHsRo45D', artifact={'query': 'UK GDP data 2018 to 2023', 'follow_up_questions': None, 'answer': None, 'images': [], 'results': [{'url': 'https://www.macrotrends.net/global-metrics/countries/gbr/united-kingdom/gdp-gross-domestic-product', 'title': 'U.K. GDP 1960-2025 - Macrotrends', 'content': 'U.K. gdp for 2023 was $3,340.03B, a 8.13% increase from 2022.\\nU.K. gdp for 2022 was $3,088.84B, a 1.68% decline from 2021.\\nU.K. gdp for 2021 was $3,141.51B, a 16.45% increase from 2020.\\nU.K. gdp for 2020 was $2,697.81B, a 5.39% decline from 2019. [...] | Seychelles | $2.14B |\\n| Antigua and Barbuda | $2.03B |\\n| Sint Maarten (Dutch part) | $1.62B |\\n| Turks and Caicos Islands | $1.40B |\\n| St. Kitts and Nevis | $1.08B |\\n| Palau | $0.26B |\\n| U.K. GDP - Historical Data |\\n| --- |\\n| Year | GDP | Per Capita | Growth |\\n| --- | --- | --- | --- |\\n| 2023 | $3,340.03B | $48,867 | 0.10% |\\n| 2022 | $3,088.84B | $45,564 | 4.35% |\\n| 2021 | $3,141.51B | $46,870 | 8.67% |\\n| 2020 | $2,697.81B | $40,217 | -10.36% |\\n| 2019 | $2,851.41B | $42,663 | 1.64% |', 'score': 0.9247491, 'raw_content': None}, {'url': 'https://datacommons.org/place/country/GBR', 'title': 'United Kingdom - Data Commons', 'content': 'The nominal GDP per capita in United Kingdom was $49,463.86 in 2023. The Gini index in United Kingdom was 32.4 in 2021.', 'score': 0.8891543, 'raw_content': None}], 'response_time': 1.79}), AIMessage(content=\"I have found the UK's GDP data for the past five years:\\n\\n- 2019: $2,851.41 billion\\n- 2020: $2,697.81 billion\\n- 2021: $3,141.51 billion\\n- 2022: $3,088.84 billion\\n- 2023: $3,340.03 billion\\n\\nNow, I will pass this data to my colleague to create a line chart.\", additional_kwargs={'tool_calls': [{'function': {'arguments': '{\"data\": {\"2019\": 2851.41, \"2020\": 2697.81, \"2021\": 3141.51, \"2022\": 3088.84, \"2023\": 3340.03}, \"chart_type\": \"line\", \"title\": \"UK GDP Over the Past 5 Years\", \"x_label\": \"Year\", \"y_label\": \"GDP (in billion USD)\"}', 'name': 'chart_generator'}, 'id': 'call_URu8kMuZG1dWXipS6lVQFSD0', 'type': 'function'}]}, response_metadata={'usage_metadata': {'total_tokens': 1796, 'completion_tokens': 1600, 'prompt_tokens': 196}, 'model_name': 'gpt-4o', 'finish_reason': 'stop'}, id='run-4a0161b4-16fc-4a53-a30b-a79c0873251a-0', tool_calls=[{'name': 'chart_generator', 'args': {'data': {'2019': 2851.41, '2020': 2697.81, '2021': 3141.51, '2022': 3088.84, '2023': 3340.03}, 'chart_type': 'line', 'title': 'UK GDP Over the Past 5 Years', 'x_label': 'Year', 'y_label': 'GDP (in billion USD)'}, 'id': 'call_URu8kMuZG1dWXipS6lVQFSD0', 'type': 'tool_call'}]), ToolMessage(content='Error: chart_generator is not a valid tool, try one of [tavily_search_results_json].', name='chart_generator', id='6ba9e213-c962-4435-85e5-84bf8bf3b2b8', tool_call_id='call_URu8kMuZG1dWXipS6lVQFSD0', status='error'), HumanMessage(content=\"It seems there was an error in accessing the chart generator tool. I will pass the data to my colleague who can generate the chart. \\n\\nHere is the UK's GDP data for the past five years:\\n\\n- 2019: $2,851.41 billion\\n- 2020: $2,697.81 billion\\n- 2021: $3,141.51 billion\\n- 2022: $3,088.84 billion\\n- 2023: $3,340.03 billion\\n\\nPlease create a line chart using this data.\", additional_kwargs={}, response_metadata={}, name='researcher', id='0ec9af75-85d7-4b5e-b0f5-974f8085bba1')]}}\n",
      "----\n"
     ]
    },
    {
     "name": "stderr",
     "output_type": "stream",
     "text": [
      "Python REPL can execute arbitrary code. Use with caution.\n"
     ]
    },
    {
     "name": "stdout",
     "output_type": "stream",
     "text": [
      "{'chart_generator': {'messages': [HumanMessage(content=\"First, get the UK's GDP over the past 5 years, then make a line chart of it. Once you make the chart, finish.\", additional_kwargs={}, response_metadata={}, id='0593602e-2322-4f47-b674-f636ec352102'), AIMessage(content='', additional_kwargs={'tool_calls': [{'function': {'arguments': '{\"query\":\"UK GDP data for the past 5 years\"}', 'name': 'tavily_search_results_json'}, 'id': 'call_75uzmjNZtGewid4eKQ3U4Sb3', 'type': 'function'}]}, response_metadata={'usage_metadata': {'total_tokens': 235, 'completion_tokens': 208, 'prompt_tokens': 27}, 'model_name': 'gpt-4o', 'finish_reason': 'stop'}, id='run-37e79092-9494-4140-8a45-4b827429b596-0', tool_calls=[{'name': 'tavily_search_results_json', 'args': {'query': 'UK GDP data for the past 5 years'}, 'id': 'call_75uzmjNZtGewid4eKQ3U4Sb3', 'type': 'tool_call'}]), ToolMessage(content='[{\"title\": \"United Kingdom GDP - Trading Economics\", \"url\": \"https://tradingeconomics.com/united-kingdom/gdp\", \"content\": \"Members\\\\n\\\\n\\\\n\\\\nUnited Kingdom GDP\\\\n\\\\nThe Gross Domestic Product (GDP) in the United Kingdom was worth 3380.85 billion US dollars in 2023, according to official data from the World Bank. The GDP value of the United Kingdom represents 3.21 percent of the world economy. source: World Bank [...] GDP in the United Kingdom averaged 1346.43 USD Billion from 1960 until 2023, reaching an all time high of 3380.85 USD Billion in 2023 and a record low of 73.23 USD Billion in 1960. This page provides the latest reported value for - United Kingdom GDP - plus previous releases, historical high and low, short-term forecast and long-term prediction, economic calendar, survey consensus and news. United Kingdom GDP - values, historical data and charts - was last updated on  May of 2025. [...] GDP in the United Kingdom is expected to reach 3421.00 USD Billion by the end of 2025, according to Trading Economics global macro models and analysts expectations. In the long-term, the United Kingdom GDP is projected to trend around 3459.00 USD Billion in 2026 and 3518.00 USD Billion in 2027, according to our econometric models.\", \"score\": 0.7935067}, {\"title\": \"United Kingdom GDP Growth Rate - Trading Economics\", \"url\": \"https://tradingeconomics.com/united-kingdom/gdp-growth\", \"content\": \"| GDP from Public Administration | 30178.00 | 30011.00 | GBP Million | Mar 2025 |\\\\n| GDP from Services | 466343.00 | 463051.00 | GBP Million | Mar 2025 |\\\\n| GDP from Transport | 21198.00 | 20795.00 | GBP Million | Mar 2025 |\\\\n| GDP Growth Rate | 0.70 | 0.10 | percent | Mar 2025 |\\\\n| Gross Fixed Capital Formation | 118474.00 | 115115.00 | GBP Million | Mar 2025 |\\\\n| Gross National Product | 723702.00 | 713446.00 | GBP Million | Dec 2024 | [...] The Gross Domestic Product (GDP) in the United Kingdom expanded 0.70 percent in the first quarter of 2025 over the previous quarter. GDP Growth Rate in the United Kingdom averaged 0.58 percent from 1955 until 2025, reaching an all time high of 16.80 percent in the third quarter of 2020 and a record low of -20.30 percent in the second quarter of 2020. This page provides the latest reported value for - United Kingdom GDP Growth Rate - plus previous releases, historical high and low, short-term [...] | Related | Last | Previous | Unit | Reference |\\\\n| --- | --- | --- | --- | --- |\\\\n| GDP Growth Rate YoY | 1.30 | 1.50 | percent | Mar 2025 |\\\\n| GDP Constant Prices | 646833.00 | 642287.00 | GBP Million | Mar 2025 |\\\\n| GDP from Agriculture | 4300.00 | 4279.00 | GBP Million | Mar 2025 |\\\\n| GDP from Construction | 35725.00 | 35727.00 | GBP Million | Mar 2025 |\\\\n| GDP from Manufacturing | 51870.00 | 51434.00 | GBP Million | Mar 2025 |\\\\n| GDP from Mining | 7909.00 | 7951.00 | GBP Million | Mar 2025 |\", \"score\": 0.7859175}]', name='tavily_search_results_json', id='3f80e4f3-cbf8-4369-8412-0d580871194f', tool_call_id='call_75uzmjNZtGewid4eKQ3U4Sb3', artifact={'query': 'UK GDP data for the past 5 years', 'follow_up_questions': None, 'answer': None, 'images': [], 'results': [{'url': 'https://tradingeconomics.com/united-kingdom/gdp', 'title': 'United Kingdom GDP - Trading Economics', 'content': 'Members\\n\\n\\n\\nUnited Kingdom GDP\\n\\nThe Gross Domestic Product (GDP) in the United Kingdom was worth 3380.85 billion US dollars in 2023, according to official data from the World Bank. The GDP value of the United Kingdom represents 3.21 percent of the world economy. source: World Bank [...] GDP in the United Kingdom averaged 1346.43 USD Billion from 1960 until 2023, reaching an all time high of 3380.85 USD Billion in 2023 and a record low of 73.23 USD Billion in 1960. This page provides the latest reported value for - United Kingdom GDP - plus previous releases, historical high and low, short-term forecast and long-term prediction, economic calendar, survey consensus and news. United Kingdom GDP - values, historical data and charts - was last updated on  May of 2025. [...] GDP in the United Kingdom is expected to reach 3421.00 USD Billion by the end of 2025, according to Trading Economics global macro models and analysts expectations. In the long-term, the United Kingdom GDP is projected to trend around 3459.00 USD Billion in 2026 and 3518.00 USD Billion in 2027, according to our econometric models.', 'score': 0.7935067, 'raw_content': None}, {'url': 'https://tradingeconomics.com/united-kingdom/gdp-growth', 'title': 'United Kingdom GDP Growth Rate - Trading Economics', 'content': '| GDP from Public Administration | 30178.00 | 30011.00 | GBP Million | Mar 2025 |\\n| GDP from Services | 466343.00 | 463051.00 | GBP Million | Mar 2025 |\\n| GDP from Transport | 21198.00 | 20795.00 | GBP Million | Mar 2025 |\\n| GDP Growth Rate | 0.70 | 0.10 | percent | Mar 2025 |\\n| Gross Fixed Capital Formation | 118474.00 | 115115.00 | GBP Million | Mar 2025 |\\n| Gross National Product | 723702.00 | 713446.00 | GBP Million | Dec 2024 | [...] The Gross Domestic Product (GDP) in the United Kingdom expanded 0.70 percent in the first quarter of 2025 over the previous quarter. GDP Growth Rate in the United Kingdom averaged 0.58 percent from 1955 until 2025, reaching an all time high of 16.80 percent in the third quarter of 2020 and a record low of -20.30 percent in the second quarter of 2020. This page provides the latest reported value for - United Kingdom GDP Growth Rate - plus previous releases, historical high and low, short-term [...] | Related | Last | Previous | Unit | Reference |\\n| --- | --- | --- | --- | --- |\\n| GDP Growth Rate YoY | 1.30 | 1.50 | percent | Mar 2025 |\\n| GDP Constant Prices | 646833.00 | 642287.00 | GBP Million | Mar 2025 |\\n| GDP from Agriculture | 4300.00 | 4279.00 | GBP Million | Mar 2025 |\\n| GDP from Construction | 35725.00 | 35727.00 | GBP Million | Mar 2025 |\\n| GDP from Manufacturing | 51870.00 | 51434.00 | GBP Million | Mar 2025 |\\n| GDP from Mining | 7909.00 | 7951.00 | GBP Million | Mar 2025 |', 'score': 0.7859175, 'raw_content': None}], 'response_time': 0.71}), AIMessage(content='', additional_kwargs={'tool_calls': [{'function': {'arguments': '{\"query\":\"UK GDP data 2018 to 2023\"}', 'name': 'tavily_search_results_json'}, 'id': 'call_GTUfEBnu3E8tkOH5NHsRo45D', 'type': 'function'}]}, response_metadata={'usage_metadata': {'total_tokens': 1080, 'completion_tokens': 1052, 'prompt_tokens': 28}, 'model_name': 'gpt-4o', 'finish_reason': 'stop'}, id='run-f00bf7fc-afb6-4b85-a9c7-796691cb973b-0', tool_calls=[{'name': 'tavily_search_results_json', 'args': {'query': 'UK GDP data 2018 to 2023'}, 'id': 'call_GTUfEBnu3E8tkOH5NHsRo45D', 'type': 'tool_call'}]), ToolMessage(content='[{\"title\": \"U.K. GDP 1960-2025 - Macrotrends\", \"url\": \"https://www.macrotrends.net/global-metrics/countries/gbr/united-kingdom/gdp-gross-domestic-product\", \"content\": \"U.K. gdp for 2023 was $3,340.03B, a 8.13% increase from 2022.\\\\nU.K. gdp for 2022 was $3,088.84B, a 1.68% decline from 2021.\\\\nU.K. gdp for 2021 was $3,141.51B, a 16.45% increase from 2020.\\\\nU.K. gdp for 2020 was $2,697.81B, a 5.39% decline from 2019. [...] | Seychelles | $2.14B |\\\\n| Antigua and Barbuda | $2.03B |\\\\n| Sint Maarten (Dutch part) | $1.62B |\\\\n| Turks and Caicos Islands | $1.40B |\\\\n| St. Kitts and Nevis | $1.08B |\\\\n| Palau | $0.26B |\\\\n| U.K. GDP - Historical Data |\\\\n| --- |\\\\n| Year | GDP | Per Capita | Growth |\\\\n| --- | --- | --- | --- |\\\\n| 2023 | $3,340.03B | $48,867 | 0.10% |\\\\n| 2022 | $3,088.84B | $45,564 | 4.35% |\\\\n| 2021 | $3,141.51B | $46,870 | 8.67% |\\\\n| 2020 | $2,697.81B | $40,217 | -10.36% |\\\\n| 2019 | $2,851.41B | $42,663 | 1.64% |\", \"score\": 0.9247491}, {\"title\": \"United Kingdom - Data Commons\", \"url\": \"https://datacommons.org/place/country/GBR\", \"content\": \"The nominal GDP per capita in United Kingdom was $49,463.86 in 2023. The Gini index in United Kingdom was 32.4 in 2021.\", \"score\": 0.8891543}]', name='tavily_search_results_json', id='472a1dde-29bd-464b-930f-02b69a4b930a', tool_call_id='call_GTUfEBnu3E8tkOH5NHsRo45D', artifact={'query': 'UK GDP data 2018 to 2023', 'follow_up_questions': None, 'answer': None, 'images': [], 'results': [{'url': 'https://www.macrotrends.net/global-metrics/countries/gbr/united-kingdom/gdp-gross-domestic-product', 'title': 'U.K. GDP 1960-2025 - Macrotrends', 'content': 'U.K. gdp for 2023 was $3,340.03B, a 8.13% increase from 2022.\\nU.K. gdp for 2022 was $3,088.84B, a 1.68% decline from 2021.\\nU.K. gdp for 2021 was $3,141.51B, a 16.45% increase from 2020.\\nU.K. gdp for 2020 was $2,697.81B, a 5.39% decline from 2019. [...] | Seychelles | $2.14B |\\n| Antigua and Barbuda | $2.03B |\\n| Sint Maarten (Dutch part) | $1.62B |\\n| Turks and Caicos Islands | $1.40B |\\n| St. Kitts and Nevis | $1.08B |\\n| Palau | $0.26B |\\n| U.K. GDP - Historical Data |\\n| --- |\\n| Year | GDP | Per Capita | Growth |\\n| --- | --- | --- | --- |\\n| 2023 | $3,340.03B | $48,867 | 0.10% |\\n| 2022 | $3,088.84B | $45,564 | 4.35% |\\n| 2021 | $3,141.51B | $46,870 | 8.67% |\\n| 2020 | $2,697.81B | $40,217 | -10.36% |\\n| 2019 | $2,851.41B | $42,663 | 1.64% |', 'score': 0.9247491, 'raw_content': None}, {'url': 'https://datacommons.org/place/country/GBR', 'title': 'United Kingdom - Data Commons', 'content': 'The nominal GDP per capita in United Kingdom was $49,463.86 in 2023. The Gini index in United Kingdom was 32.4 in 2021.', 'score': 0.8891543, 'raw_content': None}], 'response_time': 1.79}), AIMessage(content=\"I have found the UK's GDP data for the past five years:\\n\\n- 2019: $2,851.41 billion\\n- 2020: $2,697.81 billion\\n- 2021: $3,141.51 billion\\n- 2022: $3,088.84 billion\\n- 2023: $3,340.03 billion\\n\\nNow, I will pass this data to my colleague to create a line chart.\", additional_kwargs={'tool_calls': [{'function': {'arguments': '{\"data\": {\"2019\": 2851.41, \"2020\": 2697.81, \"2021\": 3141.51, \"2022\": 3088.84, \"2023\": 3340.03}, \"chart_type\": \"line\", \"title\": \"UK GDP Over the Past 5 Years\", \"x_label\": \"Year\", \"y_label\": \"GDP (in billion USD)\"}', 'name': 'chart_generator'}, 'id': 'call_URu8kMuZG1dWXipS6lVQFSD0', 'type': 'function'}]}, response_metadata={'usage_metadata': {'total_tokens': 1796, 'completion_tokens': 1600, 'prompt_tokens': 196}, 'model_name': 'gpt-4o', 'finish_reason': 'stop'}, id='run-4a0161b4-16fc-4a53-a30b-a79c0873251a-0', tool_calls=[{'name': 'chart_generator', 'args': {'data': {'2019': 2851.41, '2020': 2697.81, '2021': 3141.51, '2022': 3088.84, '2023': 3340.03}, 'chart_type': 'line', 'title': 'UK GDP Over the Past 5 Years', 'x_label': 'Year', 'y_label': 'GDP (in billion USD)'}, 'id': 'call_URu8kMuZG1dWXipS6lVQFSD0', 'type': 'tool_call'}]), ToolMessage(content='Error: chart_generator is not a valid tool, try one of [tavily_search_results_json].', name='chart_generator', id='6ba9e213-c962-4435-85e5-84bf8bf3b2b8', tool_call_id='call_URu8kMuZG1dWXipS6lVQFSD0', status='error'), HumanMessage(content=\"It seems there was an error in accessing the chart generator tool. I will pass the data to my colleague who can generate the chart. \\n\\nHere is the UK's GDP data for the past five years:\\n\\n- 2019: $2,851.41 billion\\n- 2020: $2,697.81 billion\\n- 2021: $3,141.51 billion\\n- 2022: $3,088.84 billion\\n- 2023: $3,340.03 billion\\n\\nPlease create a line chart using this data.\", additional_kwargs={}, response_metadata={}, name='researcher', id='0ec9af75-85d7-4b5e-b0f5-974f8085bba1'), AIMessage(content='', additional_kwargs={'tool_calls': [{'function': {'arguments': '{\"code\":\"import matplotlib.pyplot as plt\\\\n\\\\n# Data for UK GDP over the past 5 years\\\\nyears = [2019, 2020, 2021, 2022, 2023]\\\\ngdp_values = [2851.41, 2697.81, 3141.51, 3088.84, 3340.03]\\\\n\\\\n# Create a line chart\\\\nplt.figure(figsize=(10, 6))\\\\nplt.plot(years, gdp_values, marker=\\'o\\')\\\\nplt.title(\\'UK GDP Over the Past 5 Years\\')\\\\nplt.xlabel(\\'Year\\')\\\\nplt.ylabel(\\'GDP (in billion USD)\\')\\\\nplt.grid(True)\\\\nplt.show()\"}', 'name': 'python_repl_tool'}, 'id': 'call_VmQbknyd2JIpSYciM5uhwvwa', 'type': 'function'}]}, response_metadata={'usage_metadata': {'total_tokens': 2099, 'completion_tokens': 1933, 'prompt_tokens': 166}, 'model_name': 'gpt-4o', 'finish_reason': 'stop'}, id='run-a4704e8e-1032-4739-8982-fed997409e53-0', tool_calls=[{'name': 'python_repl_tool', 'args': {'code': \"import matplotlib.pyplot as plt\\n\\n# Data for UK GDP over the past 5 years\\nyears = [2019, 2020, 2021, 2022, 2023]\\ngdp_values = [2851.41, 2697.81, 3141.51, 3088.84, 3340.03]\\n\\n# Create a line chart\\nplt.figure(figsize=(10, 6))\\nplt.plot(years, gdp_values, marker='o')\\nplt.title('UK GDP Over the Past 5 Years')\\nplt.xlabel('Year')\\nplt.ylabel('GDP (in billion USD)')\\nplt.grid(True)\\nplt.show()\"}, 'id': 'call_VmQbknyd2JIpSYciM5uhwvwa', 'type': 'tool_call'}]), ToolMessage(content='Successfully executed:\\n\\\\`\\\\`\\\\`python\\nimport matplotlib.pyplot as plt\\n\\n# Data for UK GDP over the past 5 years\\nyears = [2019, 2020, 2021, 2022, 2023]\\ngdp_values = [2851.41, 2697.81, 3141.51, 3088.84, 3340.03]\\n\\n# Create a line chart\\nplt.figure(figsize=(10, 6))\\nplt.plot(years, gdp_values, marker=\\'o\\')\\nplt.title(\\'UK GDP Over the Past 5 Years\\')\\nplt.xlabel(\\'Year\\')\\nplt.ylabel(\\'GDP (in billion USD)\\')\\nplt.grid(True)\\nplt.show()\\n\\\\`\\\\`\\\\`\\nStdout: ModuleNotFoundError(\"No module named \\'matplotlib\\'\")\\n\\nIf you have completed all tasks, respond with FINAL ANSWER.', name='python_repl_tool', id='a99faff8-b221-437c-b7b1-71abc05522d7', tool_call_id='call_VmQbknyd2JIpSYciM5uhwvwa'), HumanMessage(content=\"It seems there was an issue with generating the chart due to a missing module. However, you can use the data provided to create the chart using any tool that supports plotting, such as Excel, Google Sheets, or a Python environment with the necessary libraries installed.\\n\\nHere is the UK's GDP data for the past five years:\\n\\n- 2019: $2,851.41 billion\\n- 2020: $2,697.81 billion\\n- 2021: $3,141.51 billion\\n- 2022: $3,088.84 billion\\n- 2023: $3,340.03 billion\\n\\nYou can plot this data to visualize the trend over the years.\\n\\nFINAL ANSWER\", additional_kwargs={}, response_metadata={}, name='chart_generator', id='634e7c79-2571-44c2-b670-694bf9f32f33')]}}\n",
      "----\n"
     ]
    }
   ],
   "source": [
    "events = graph.stream(\n",
    "    {\n",
    "        \"messages\": [\n",
    "            (\n",
    "                \"user\",\n",
    "                \"First, get the UK's GDP over the past 5 years, then make a line chart of it. \"\n",
    "                \"Once you make the chart, finish.\",\n",
    "            )\n",
    "        ],\n",
    "    },\n",
    "    # Maximum number of steps to take in the graph\n",
    "    {\"recursion_limit\": 10},\n",
    ")\n",
    "for s in events:\n",
    "    print(s)\n",
    "    print(\"----\")"
   ]
  },
  {
   "cell_type": "markdown",
   "id": "3b7377a4",
   "metadata": {},
   "source": [
    "\n",
    "\n",
    "#### **What Is a Multi-Agent Network?**\n",
    "\n",
    "A **multi-agent network** is a system where **multiple autonomous agents** (often AI models or modules) work **collaboratively or in parallel** to solve a complex task. Each agent typically has a **specialized role**, and they **communicate** or **pass information** to each other to complete the overall objective.\n",
    "\n",
    "---\n",
    "\n",
    "1. **Multiple Agents Defined**  \n",
    "   You see more than one agent being created, each with its own tools, prompts, or responsibilities.  \n",
    "   _Example: One agent does research, another generates charts._\n",
    "\n",
    "2. **Task Specialization**  \n",
    "   Each agent is assigned a **specific sub-task** or domain.  \n",
    "   _Example: One agent only searches the web, another only executes Python code._\n",
    "\n",
    "3. **Communication Between Agents**  \n",
    "   Agents **pass messages or state** to each other, often through a shared memory or graph structure.  \n",
    "   _Example: The research agent sends data to the chart agent._\n",
    "\n",
    "4. **Graph or Workflow Structure**  \n",
    "   The system uses a **graph or flow-based model** (like LangGraph) to define how agents interact and in what order.  \n",
    "   _Example: A `StateGraph` defines transitions between agents._\n",
    "\n",
    "5. **Coordination Logic**  \n",
    "   There’s logic to decide **when to stop** or **which agent to activate next**, often based on message content (e.g., checking for `\"FINAL ANSWER\"`).\n",
    "\n",
    "---\n",
    "\n",
    "### In this project\n",
    "\n",
    "Your system **is a multi-agent network** because:\n",
    "\n",
    "- You have **two agents**: a **researcher** and a **chart generator**.\n",
    "- Each agent has a **distinct role** and toolset.\n",
    "- They **communicate via a shared message state**.\n",
    "- A **LangGraph workflow** coordinates their interaction.\n",
    "- The system uses a **looping structure** to alternate between agents until the task is complete."
   ]
  }
 ],
 "metadata": {
  "kernelspec": {
   "display_name": ".env",
   "language": "python",
   "name": "python3"
  },
  "language_info": {
   "codemirror_mode": {
    "name": "ipython",
    "version": 3
   },
   "file_extension": ".py",
   "mimetype": "text/x-python",
   "name": "python",
   "nbconvert_exporter": "python",
   "pygments_lexer": "ipython3",
   "version": "3.12.3"
  }
 },
 "nbformat": 4,
 "nbformat_minor": 5
}
